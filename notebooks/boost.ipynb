{
 "metadata": {
  "name": "",
  "signature": "sha256:fc9f69353123a500fa97b1f7a369b2370ebf7371f8b4f9bc9b2cd99322518ba9"
 },
 "nbformat": 3,
 "nbformat_minor": 0,
 "worksheets": []
}