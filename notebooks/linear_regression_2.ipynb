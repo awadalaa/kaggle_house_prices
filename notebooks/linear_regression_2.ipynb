{
 "metadata": {
  "name": "",
  "signature": "sha256:ee0f6796482cb5ab7297d7c7f335ccab1c294e83e0688b9552911e2de1c2d668"
 },
 "nbformat": 3,
 "nbformat_minor": 0,
 "worksheets": [
  {
   "cells": [
    {
     "cell_type": "code",
     "collapsed": false,
     "input": [
      "import pandas as pd\n",
      "import numpy as np\n",
      "import tensorflow as tf\n",
      "import seaborn as sns\n",
      "import matplotlib\n",
      "import matplotlib.pyplot as plt\n",
      "\n",
      "%matplotlib inline"
     ],
     "language": "python",
     "metadata": {},
     "outputs": [],
     "prompt_number": 1
    },
    {
     "cell_type": "code",
     "collapsed": false,
     "input": [
      "def read_housing_data(source='train'):\n",
      "  dataset = load_data(source)\n",
      "  features, labels = featurize(dataset, source)\n",
      "  return features, labels\n",
      "\n",
      "def load_data(source):\n",
      "  if source == 'train':\n",
      "    return pd.read_csv('../input/train.csv.gz')\n",
      "  else:\n",
      "    return pd.read_csv('../input/test.csv.gz')\n",
      "\n",
      "def featurize(dataset, source='train'):\n",
      "  print 'the source is ' + source\n",
      "  if source == 'train':\n",
      "    labels = dataset.iloc[:,-1]\n",
      "  else:\n",
      "    labels = dataset.iloc[:,0]\n",
      "\n",
      "  notnullcount = dataset.count()\n",
      "  # List the columns with more than 30 % missing values\n",
      "  nullmorethan30 = [n for n in notnullcount if n < 0.3 * dataset.shape[0]]\n",
      "  removablecolumns =[]\n",
      "  for v in nullmorethan30:\n",
      "      colr = notnullcount[notnullcount == v].index[0]\n",
      "      removablecolumns.append(colr)\n",
      "  dataset = dataset.drop(removablecolumns,1)\n",
      "  print dataset.shape\n",
      "  \n",
      "  if source == 'train':\n",
      "    all_data = dataset.iloc[:,  1:-1] #removing id and label\n",
      "  else:\n",
      "    all_data = dataset.iloc[:,  1:] #removing id only\n",
      "\n",
      "  for col in all_data.columns:\n",
      "      if(all_data[col].dtype == np.dtype('O')):\n",
      "          all_data[col] = all_data[col].fillna(all_data[col].value_counts().index[0])\n",
      "      else:\n",
      "          all_data[col] = all_data[col].fillna(all_data[col].mean())\n",
      "  # Check if any value is null\n",
      "  print(all_data.isnull().any().value_counts())\n",
      "\n",
      "  # Get only numerics\n",
      "  numerics = ['int16', 'int32', 'int64', 'float16', 'float32', 'float64']\n",
      "  dataset_numeric = all_data.select_dtypes(include=numerics)\n",
      "  features = dataset_numeric\n",
      "\n",
      "  return features, labels\n",
      "\n",
      "def feature_normalize(dataset):\n",
      "  mu = np.mean(dataset,axis=0)\n",
      "  sigma = np.std(dataset,axis=0)\n",
      "  return (dataset - mu)/sigma\n",
      "\n",
      "def append_bias_reshape(features,labels):\n",
      "  n_training_samples = features.shape[0]\n",
      "  n_dim = features.shape[1]\n",
      "  f = np.reshape(np.c_[np.ones(n_training_samples),features],[n_training_samples,n_dim + 1])\n",
      "  l = np.reshape(labels,[n_training_samples,1])\n",
      "  return f, l"
     ],
     "language": "python",
     "metadata": {},
     "outputs": [],
     "prompt_number": 2
    },
    {
     "cell_type": "code",
     "collapsed": false,
     "input": [
      "features,labels = read_housing_data(source='train')\n",
      "normalized_features = feature_normalize(features)\n",
      "f, l = append_bias_reshape(normalized_features,labels)\n",
      "\n",
      "rnd_indices = np.random.rand(len(f)) < 0.80\n",
      "\n",
      "train_x = f[rnd_indices]\n",
      "train_y = l[rnd_indices]\n",
      "test_x = f[~rnd_indices]\n",
      "test_y = l[~rnd_indices]"
     ],
     "language": "python",
     "metadata": {},
     "outputs": [
      {
       "output_type": "stream",
       "stream": "stdout",
       "text": [
        "the source is train\n",
        "(1460, 77)\n",
        "False    75\n",
        "dtype: int64"
       ]
      },
      {
       "output_type": "stream",
       "stream": "stdout",
       "text": [
        "\n"
       ]
      },
      {
       "output_type": "stream",
       "stream": "stderr",
       "text": [
        "//anaconda/lib/python2.7/site-packages/numpy/core/fromnumeric.py:225: FutureWarning: reshape is deprecated and will raise in a subsequent release. Please use .values.reshape(...) instead\n",
        "  return reshape(newshape, order=order)\n"
       ]
      }
     ],
     "prompt_number": 3
    },
    {
     "cell_type": "code",
     "collapsed": false,
     "input": [
      "n_dim = train_x.shape[1]\n",
      "print n_dim\n",
      "learning_rate = 0.01\n",
      "training_epochs = 500\n",
      "\n",
      "X = tf.placeholder(tf.float32,[None,n_dim])\n",
      "Y = tf.placeholder(tf.float32,[None,1])\n",
      "W = tf.Variable(tf.ones([n_dim,1]))\n",
      "\n",
      "init = tf.initialize_all_variables()"
     ],
     "language": "python",
     "metadata": {},
     "outputs": [
      {
       "output_type": "stream",
       "stream": "stdout",
       "text": [
        "37\n"
       ]
      }
     ],
     "prompt_number": 4
    },
    {
     "cell_type": "code",
     "collapsed": false,
     "input": [
      "y_ = tf.matmul(X, W)\n",
      "cost = tf.reduce_mean(tf.square(y_ - Y))\n",
      "training_step = tf.train.GradientDescentOptimizer(learning_rate).minimize(cost)"
     ],
     "language": "python",
     "metadata": {},
     "outputs": [],
     "prompt_number": 5
    },
    {
     "cell_type": "code",
     "collapsed": false,
     "input": [
      "sess = tf.Session()\n",
      "sess.run(init)\n",
      "cost_history = np.empty(shape=[1],dtype=float)\n",
      "for epoch in range(training_epochs):\n",
      "    sess.run(training_step,feed_dict={X:train_x,Y:train_y})\n",
      "    cost_history = np.append(cost_history,sess.run(cost,feed_dict={X: train_x,Y: train_y}))\n",
      "\n",
      "    plt.plot(range(len(cost_history)),cost_history)\n",
      "plt.axis([0,training_epochs,0,np.max(cost_history)])\n",
      "plt.show()"
     ],
     "language": "python",
     "metadata": {},
     "outputs": [
      {
       "metadata": {},
       "output_type": "display_data",
       "png": "[encoded data removed]",
       "text": [
        "<matplotlib.figure.Figure at 0x113510910>"
       ]
      }
     ],
     "prompt_number": 6
    },
    {
     "cell_type": "code",
     "collapsed": false,
     "input": [
      "pred_y = sess.run(y_, feed_dict={X: test_x})\n",
      "mse = tf.reduce_mean(tf.square(pred_y - test_y))\n",
      "print('MSE: %.4f' % sess.run(mse)) "
     ],
     "language": "python",
     "metadata": {},
     "outputs": [
      {
       "output_type": "stream",
       "stream": "stdout",
       "text": [
        "MSE: 775896411.1744\n"
       ]
      }
     ],
     "prompt_number": 7
    },
    {
     "cell_type": "code",
     "collapsed": false,
     "input": [
      "fig, ax = plt.subplots()\n",
      "ax.scatter(test_y, pred_y)\n",
      "ax.plot([test_y.min(), test_y.max()], [test_y.min(), test_y.max()], 'k--', lw=3)\n",
      "ax.set_xlabel('Measured')\n",
      "ax.set_ylabel('Predicted')\n",
      "plt.show()"
     ],
     "language": "python",
     "metadata": {},
     "outputs": [
      {
       "output_type": "stream",
       "stream": "stderr",
       "text": [
        "//anaconda/lib/python2.7/site-packages/matplotlib/collections.py:571: FutureWarning: elementwise comparison failed; returning scalar instead, but in the future will perform elementwise comparison\n",
        "  if self._edgecolors == str('face'):\n"
       ]
      },
      {
       "metadata": {},
       "output_type": "display_data",
       "png": "[encoded data removed]",
       "text": [
        "<matplotlib.figure.Figure at 0x121646d10>"
       ]
      }
     ],
     "prompt_number": 8
    },
    {
     "cell_type": "code",
     "collapsed": false,
     "input": [
      "x_validation,x_ids = read_housing_data(source='test')\n",
      "normalized_features = feature_normalize(x_validation)\n",
      "x_validation, ids = append_bias_reshape(normalized_features,x_ids)"
     ],
     "language": "python",
     "metadata": {},
     "outputs": [
      {
       "output_type": "stream",
       "stream": "stdout",
       "text": [
        "the source is test\n",
        "(1459, 76)\n",
        "False    75\n",
        "dtype: int64"
       ]
      },
      {
       "output_type": "stream",
       "stream": "stdout",
       "text": [
        "\n"
       ]
      }
     ],
     "prompt_number": 9
    },
    {
     "cell_type": "code",
     "collapsed": false,
     "input": [
      "#x_validation.shape\n",
      "train_x.shape"
     ],
     "language": "python",
     "metadata": {},
     "outputs": [
      {
       "metadata": {},
       "output_type": "pyout",
       "prompt_number": 10,
       "text": [
        "(1196, 37)"
       ]
      }
     ],
     "prompt_number": 10
    },
    {
     "cell_type": "code",
     "collapsed": false,
     "input": [
      "predictions = sess.run(y_, feed_dict={X: x_validation})\n",
      "predictions.shape\n",
      "x_ids = np.reshape(x_ids,[x_validation.shape[0],1])"
     ],
     "language": "python",
     "metadata": {},
     "outputs": [],
     "prompt_number": 11
    },
    {
     "cell_type": "code",
     "collapsed": false,
     "input": [
      "#df = pd.concat([x_ids, predictions], axis=1)\n",
      "df = np.column_stack((x_ids.astype(int), predictions))\n",
      "solution = pd.DataFrame(df)\n",
      "solution.to_csv(\"submission2.csv\", index=False)"
     ],
     "language": "python",
     "metadata": {},
     "outputs": [],
     "prompt_number": 12
    },
    {
     "cell_type": "code",
     "collapsed": false,
     "input": [],
     "language": "python",
     "metadata": {},
     "outputs": []
    }
   ],
   "metadata": {}
  }
 ]
}