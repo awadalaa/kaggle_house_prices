{
 "metadata": {
  "name": "",
  "signature": "sha256:cc2ed6ccecba68073351fb44d61b1eb1671b5e1aa714538ce13037ed9fc13afa"
 },
 "nbformat": 3,
 "nbformat_minor": 0,
 "worksheets": [
  {
   "cells": [
    {
     "cell_type": "code",
     "collapsed": false,
     "input": [
      "import pandas as pd\n",
      "import numpy as np\n",
      "import seaborn as sns\n",
      "import matplotlib\n",
      "import matplotlib.pyplot as plt\n",
      "\n",
      "from sklearn.model_selection import train_test_split, cross_val_score\n",
      "from sklearn.metrics import r2_score, mean_squared_error\n",
      "from sklearn.utils import shuffle\n",
      "from sklearn.linear_model import LinearRegression\n",
      "from sklearn.preprocessing import PolynomialFeatures\n",
      "\n",
      "%matplotlib inline\n",
      "import warnings\n",
      "warnings.filterwarnings('ignore')\n",
      "\n",
      "train = pd.read_csv('../input/train.csv.gz')\n",
      "test = pd.read_csv('../input/test.csv.gz')"
     ],
     "language": "python",
     "metadata": {},
     "outputs": [],
     "prompt_number": 4
    },
    {
     "cell_type": "code",
     "collapsed": false,
     "input": [
      "#checking for missing data\n",
      "NAs = pd.concat([train.isnull().sum(),test.isnull().sum()], axis=1, keys=['Train', 'Test'])\n",
      "NAs[NAs.sum(axis=1) > 0]"
     ],
     "language": "python",
     "metadata": {},
     "outputs": [
      {
       "html": [
        "<div style=\"max-width:1500px;overflow:auto;\">\n",
        "<table border=\"1\" class=\"dataframe\">\n",
        "  <thead>\n",
        "    <tr style=\"text-align: right;\">\n",
        "      <th></th>\n",
        "      <th>Train</th>\n",
        "      <th>Test</th>\n",
        "    </tr>\n",
        "  </thead>\n",
        "  <tbody>\n",
        "    <tr>\n",
        "      <th>Alley</th>\n",
        "      <td>1369</td>\n",
        "      <td>1352.0</td>\n",
        "    </tr>\n",
        "    <tr>\n",
        "      <th>BsmtCond</th>\n",
        "      <td>37</td>\n",
        "      <td>45.0</td>\n",
        "    </tr>\n",
        "    <tr>\n",
        "      <th>BsmtExposure</th>\n",
        "      <td>38</td>\n",
        "      <td>44.0</td>\n",
        "    </tr>\n",
        "    <tr>\n",
        "      <th>BsmtFinSF1</th>\n",
        "      <td>0</td>\n",
        "      <td>1.0</td>\n",
        "    </tr>\n",
        "    <tr>\n",
        "      <th>BsmtFinSF2</th>\n",
        "      <td>0</td>\n",
        "      <td>1.0</td>\n",
        "    </tr>\n",
        "    <tr>\n",
        "      <th>BsmtFinType1</th>\n",
        "      <td>37</td>\n",
        "      <td>42.0</td>\n",
        "    </tr>\n",
        "    <tr>\n",
        "      <th>BsmtFinType2</th>\n",
        "      <td>38</td>\n",
        "      <td>42.0</td>\n",
        "    </tr>\n",
        "    <tr>\n",
        "      <th>BsmtFullBath</th>\n",
        "      <td>0</td>\n",
        "      <td>2.0</td>\n",
        "    </tr>\n",
        "    <tr>\n",
        "      <th>BsmtHalfBath</th>\n",
        "      <td>0</td>\n",
        "      <td>2.0</td>\n",
        "    </tr>\n",
        "    <tr>\n",
        "      <th>BsmtQual</th>\n",
        "      <td>37</td>\n",
        "      <td>44.0</td>\n",
        "    </tr>\n",
        "    <tr>\n",
        "      <th>BsmtUnfSF</th>\n",
        "      <td>0</td>\n",
        "      <td>1.0</td>\n",
        "    </tr>\n",
        "    <tr>\n",
        "      <th>Electrical</th>\n",
        "      <td>1</td>\n",
        "      <td>0.0</td>\n",
        "    </tr>\n",
        "    <tr>\n",
        "      <th>Exterior1st</th>\n",
        "      <td>0</td>\n",
        "      <td>1.0</td>\n",
        "    </tr>\n",
        "    <tr>\n",
        "      <th>Exterior2nd</th>\n",
        "      <td>0</td>\n",
        "      <td>1.0</td>\n",
        "    </tr>\n",
        "    <tr>\n",
        "      <th>Fence</th>\n",
        "      <td>1179</td>\n",
        "      <td>1169.0</td>\n",
        "    </tr>\n",
        "    <tr>\n",
        "      <th>FireplaceQu</th>\n",
        "      <td>690</td>\n",
        "      <td>730.0</td>\n",
        "    </tr>\n",
        "    <tr>\n",
        "      <th>Functional</th>\n",
        "      <td>0</td>\n",
        "      <td>2.0</td>\n",
        "    </tr>\n",
        "    <tr>\n",
        "      <th>GarageArea</th>\n",
        "      <td>0</td>\n",
        "      <td>1.0</td>\n",
        "    </tr>\n",
        "    <tr>\n",
        "      <th>GarageCars</th>\n",
        "      <td>0</td>\n",
        "      <td>1.0</td>\n",
        "    </tr>\n",
        "    <tr>\n",
        "      <th>GarageCond</th>\n",
        "      <td>81</td>\n",
        "      <td>78.0</td>\n",
        "    </tr>\n",
        "    <tr>\n",
        "      <th>GarageFinish</th>\n",
        "      <td>81</td>\n",
        "      <td>78.0</td>\n",
        "    </tr>\n",
        "    <tr>\n",
        "      <th>GarageQual</th>\n",
        "      <td>81</td>\n",
        "      <td>78.0</td>\n",
        "    </tr>\n",
        "    <tr>\n",
        "      <th>GarageType</th>\n",
        "      <td>81</td>\n",
        "      <td>76.0</td>\n",
        "    </tr>\n",
        "    <tr>\n",
        "      <th>GarageYrBlt</th>\n",
        "      <td>81</td>\n",
        "      <td>78.0</td>\n",
        "    </tr>\n",
        "    <tr>\n",
        "      <th>KitchenQual</th>\n",
        "      <td>0</td>\n",
        "      <td>1.0</td>\n",
        "    </tr>\n",
        "    <tr>\n",
        "      <th>LotFrontage</th>\n",
        "      <td>259</td>\n",
        "      <td>227.0</td>\n",
        "    </tr>\n",
        "    <tr>\n",
        "      <th>MSZoning</th>\n",
        "      <td>0</td>\n",
        "      <td>4.0</td>\n",
        "    </tr>\n",
        "    <tr>\n",
        "      <th>MasVnrArea</th>\n",
        "      <td>8</td>\n",
        "      <td>15.0</td>\n",
        "    </tr>\n",
        "    <tr>\n",
        "      <th>MasVnrType</th>\n",
        "      <td>8</td>\n",
        "      <td>16.0</td>\n",
        "    </tr>\n",
        "    <tr>\n",
        "      <th>MiscFeature</th>\n",
        "      <td>1406</td>\n",
        "      <td>1408.0</td>\n",
        "    </tr>\n",
        "    <tr>\n",
        "      <th>PoolQC</th>\n",
        "      <td>1453</td>\n",
        "      <td>1456.0</td>\n",
        "    </tr>\n",
        "    <tr>\n",
        "      <th>SaleType</th>\n",
        "      <td>0</td>\n",
        "      <td>1.0</td>\n",
        "    </tr>\n",
        "    <tr>\n",
        "      <th>TotalBsmtSF</th>\n",
        "      <td>0</td>\n",
        "      <td>1.0</td>\n",
        "    </tr>\n",
        "    <tr>\n",
        "      <th>Utilities</th>\n",
        "      <td>0</td>\n",
        "      <td>2.0</td>\n",
        "    </tr>\n",
        "  </tbody>\n",
        "</table>\n",
        "</div>"
       ],
       "metadata": {},
       "output_type": "pyout",
       "prompt_number": 6,
       "text": [
        "              Train    Test\n",
        "Alley          1369  1352.0\n",
        "BsmtCond         37    45.0\n",
        "BsmtExposure     38    44.0\n",
        "BsmtFinSF1        0     1.0\n",
        "BsmtFinSF2        0     1.0\n",
        "BsmtFinType1     37    42.0\n",
        "BsmtFinType2     38    42.0\n",
        "BsmtFullBath      0     2.0\n",
        "BsmtHalfBath      0     2.0\n",
        "BsmtQual         37    44.0\n",
        "BsmtUnfSF         0     1.0\n",
        "Electrical        1     0.0\n",
        "Exterior1st       0     1.0\n",
        "Exterior2nd       0     1.0\n",
        "Fence          1179  1169.0\n",
        "FireplaceQu     690   730.0\n",
        "Functional        0     2.0\n",
        "GarageArea        0     1.0\n",
        "GarageCars        0     1.0\n",
        "GarageCond       81    78.0\n",
        "GarageFinish     81    78.0\n",
        "GarageQual       81    78.0\n",
        "GarageType       81    76.0\n",
        "GarageYrBlt      81    78.0\n",
        "KitchenQual       0     1.0\n",
        "LotFrontage     259   227.0\n",
        "MSZoning          0     4.0\n",
        "MasVnrArea        8    15.0\n",
        "MasVnrType        8    16.0\n",
        "MiscFeature    1406  1408.0\n",
        "PoolQC         1453  1456.0\n",
        "SaleType          0     1.0\n",
        "TotalBsmtSF       0     1.0\n",
        "Utilities         0     2.0"
       ]
      }
     ],
     "prompt_number": 6
    },
    {
     "cell_type": "code",
     "collapsed": false,
     "input": [
      "# Prints R2 and RMSE scores\n",
      "def get_score(prediction, lables):    \n",
      "    print('R2: {}'.format(r2_score(prediction, lables)))\n",
      "    print('RMSE: {}'.format(np.sqrt(mean_squared_error(prediction, lables))))\n",
      "\n",
      "# Shows scores for train and validation sets    \n",
      "def train_test(estimator, x_trn, x_tst, y_trn, y_tst):\n",
      "    prediction_train = estimator.predict(x_trn)\n",
      "    # Printing estimator\n",
      "    print(estimator)\n",
      "    # Printing train scores\n",
      "    get_score(prediction_train, y_trn)\n",
      "    prediction_test = estimator.predict(x_tst)\n",
      "    # Printing test scores\n",
      "    print(\"Test\")\n",
      "    get_score(prediction_test, y_tst)"
     ],
     "language": "python",
     "metadata": {},
     "outputs": [],
     "prompt_number": 7
    },
    {
     "cell_type": "code",
     "collapsed": false,
     "input": [
      "# Spliting to features and lables and deleting variable I don't need\n",
      "train_labels = train.pop('SalePrice')\n",
      "\n",
      "features = pd.concat([train, test], keys=['train', 'test'])\n",
      "\n",
      "# I decided to get rid of features that have more than half of missing information or do not correlate to SalePrice\n",
      "features.drop(['Utilities', 'RoofMatl', 'MasVnrArea', 'BsmtFinSF1', 'BsmtFinSF2', 'BsmtUnfSF', 'Heating', 'LowQualFinSF',\n",
      "               'BsmtFullBath', 'BsmtHalfBath', 'Functional', 'GarageYrBlt', 'GarageArea', 'GarageCond', 'WoodDeckSF',\n",
      "               'OpenPorchSF', 'EnclosedPorch', '3SsnPorch', 'ScreenPorch', 'PoolArea', 'PoolQC', 'Fence', 'MiscFeature', 'MiscVal'],\n",
      "              axis=1, inplace=True)"
     ],
     "language": "python",
     "metadata": {},
     "outputs": [],
     "prompt_number": 8
    },
    {
     "cell_type": "code",
     "collapsed": false,
     "input": [
      "# MSSubClass as str\n",
      "features['MSSubClass'] = features['MSSubClass'].astype(str)\n",
      "\n",
      "# MSZoning NA in pred. filling with most popular values\n",
      "features['MSZoning'] = features['MSZoning'].fillna(features['MSZoning'].mode()[0])\n",
      "\n",
      "# LotFrontage  NA in all. I suppose NA means 0\n",
      "features['LotFrontage'] = features['LotFrontage'].fillna(features['LotFrontage'].mean())\n",
      "\n",
      "# Alley  NA in all. NA means no access\n",
      "features['Alley'] = features['Alley'].fillna('NOACCESS')\n",
      "\n",
      "# Converting OverallCond to str\n",
      "features.OverallCond = features.OverallCond.astype(str)\n",
      "\n",
      "# MasVnrType NA in all. filling with most popular values\n",
      "features['MasVnrType'] = features['MasVnrType'].fillna(features['MasVnrType'].mode()[0])\n",
      "\n",
      "# BsmtQual, BsmtCond, BsmtExposure, BsmtFinType1, BsmtFinType2\n",
      "# NA in all. NA means No basement\n",
      "for col in ('BsmtQual', 'BsmtCond', 'BsmtExposure', 'BsmtFinType1', 'BsmtFinType2'):\n",
      "    features[col] = features[col].fillna('NoBSMT')\n",
      "\n",
      "# TotalBsmtSF  NA in pred. I suppose NA means 0\n",
      "features['TotalBsmtSF'] = features['TotalBsmtSF'].fillna(0)\n",
      "\n",
      "# Electrical NA in pred. filling with most popular values\n",
      "features['Electrical'] = features['Electrical'].fillna(features['Electrical'].mode()[0])\n",
      "\n",
      "# KitchenAbvGr to categorical\n",
      "features['KitchenAbvGr'] = features['KitchenAbvGr'].astype(str)\n",
      "\n",
      "# KitchenQual NA in pred. filling with most popular values\n",
      "features['KitchenQual'] = features['KitchenQual'].fillna(features['KitchenQual'].mode()[0])\n",
      "\n",
      "# FireplaceQu  NA in all. NA means No Fireplace\n",
      "features['FireplaceQu'] = features['FireplaceQu'].fillna('NoFP')\n",
      "\n",
      "# GarageType, GarageFinish, GarageQual  NA in all. NA means No Garage\n",
      "for col in ('GarageType', 'GarageFinish', 'GarageQual'):\n",
      "    features[col] = features[col].fillna('NoGRG')\n",
      "\n",
      "# GarageCars  NA in pred. I suppose NA means 0\n",
      "features['GarageCars'] = features['GarageCars'].fillna(0.0)\n",
      "\n",
      "# SaleType NA in pred. filling with most popular values\n",
      "features['SaleType'] = features['SaleType'].fillna(features['SaleType'].mode()[0])\n",
      "\n",
      "# Year and Month to categorical\n",
      "features['YrSold'] = features['YrSold'].astype(str)\n",
      "features['MoSold'] = features['MoSold'].astype(str)\n",
      "\n",
      "# Adding total sqfootage feature and removing Basement, 1st and 2nd floor features\n",
      "features['TotalSF'] = features['TotalBsmtSF'] + features['1stFlrSF'] + features['2ndFlrSF']\n",
      "features.drop(['TotalBsmtSF', '1stFlrSF', '2ndFlrSF'], axis=1, inplace=True)"
     ],
     "language": "python",
     "metadata": {},
     "outputs": [],
     "prompt_number": 9
    },
    {
     "cell_type": "code",
     "collapsed": false,
     "input": [
      "## Log transformation of labels\n",
      "train_labels = np.log(train_labels)\n",
      "ax = sns.distplot(train_labels)"
     ],
     "language": "python",
     "metadata": {},
     "outputs": [
      {
       "metadata": {},
       "output_type": "display_data",
       "png": "[encoded data removed]",
       "text": [
        "<matplotlib.figure.Figure at 0x11d2db0d0>"
       ]
      }
     ],
     "prompt_number": 10
    },
    {
     "cell_type": "code",
     "collapsed": false,
     "input": [
      "## Standardizing numeric features\n",
      "numeric_features = features.loc[:,['LotFrontage', 'LotArea', 'GrLivArea', 'TotalSF']]\n",
      "numeric_features_standardized = (numeric_features - numeric_features.mean())/numeric_features.std()"
     ],
     "language": "python",
     "metadata": {},
     "outputs": [],
     "prompt_number": 11
    },
    {
     "cell_type": "code",
     "collapsed": false,
     "input": [
      "# Getting Dummies from Condition1 and Condition2\n",
      "conditions = set([x for x in features['Condition1']] + [x for x in features['Condition2']])\n",
      "dummies = pd.DataFrame(data=np.zeros((len(features.index), len(conditions))),\n",
      "                       index=features.index, columns=conditions)\n",
      "for i, cond in enumerate(zip(features['Condition1'], features['Condition2'])):\n",
      "    dummies.ix[i, cond] = 1\n",
      "features = pd.concat([features, dummies.add_prefix('Condition_')], axis=1)\n",
      "features.drop(['Condition1', 'Condition2'], axis=1, inplace=True)\n",
      "\n",
      "# Getting Dummies from Exterior1st and Exterior2nd\n",
      "exteriors = set([x for x in features['Exterior1st']] + [x for x in features['Exterior2nd']])\n",
      "dummies = pd.DataFrame(data=np.zeros((len(features.index), len(exteriors))),\n",
      "                       index=features.index, columns=exteriors)\n",
      "for i, ext in enumerate(zip(features['Exterior1st'], features['Exterior2nd'])):\n",
      "    dummies.ix[i, ext] = 1\n",
      "features = pd.concat([features, dummies.add_prefix('Exterior_')], axis=1)\n",
      "features.drop(['Exterior1st', 'Exterior2nd', 'Exterior_nan'], axis=1, inplace=True)\n",
      "\n",
      "# Getting Dummies from all other categorical vars\n",
      "for col in features.dtypes[features.dtypes == 'object'].index:\n",
      "    for_dummy = features.pop(col)\n",
      "    features = pd.concat([features, pd.get_dummies(for_dummy, prefix=col)], axis=1)"
     ],
     "language": "python",
     "metadata": {},
     "outputs": [],
     "prompt_number": 12
    },
    {
     "cell_type": "code",
     "collapsed": false,
     "input": [
      "### Copying features\n",
      "features_standardized = features.copy()\n",
      "\n",
      "### Replacing numeric features by standardized values\n",
      "features_standardized.update(numeric_features_standardized)"
     ],
     "language": "python",
     "metadata": {},
     "outputs": [],
     "prompt_number": 13
    },
    {
     "cell_type": "code",
     "collapsed": false,
     "input": [
      "### Splitting features\n",
      "train_features = features.loc['train'].drop('Id', axis=1).select_dtypes(include=[np.number]).values\n",
      "test_features = features.loc['test'].drop('Id', axis=1).select_dtypes(include=[np.number]).values\n",
      "\n",
      "### Splitting standardized features\n",
      "train_features_st = features_standardized.loc['train'].drop('Id', axis=1).select_dtypes(include=[np.number]).values\n",
      "test_features_st = features_standardized.loc['test'].drop('Id', axis=1).select_dtypes(include=[np.number]).values"
     ],
     "language": "python",
     "metadata": {},
     "outputs": [],
     "prompt_number": 14
    },
    {
     "cell_type": "code",
     "collapsed": false,
     "input": [
      "### Shuffling train sets\n",
      "train_features_st, train_features, train_labels = shuffle(train_features_st, train_features, train_labels, random_state = 5)"
     ],
     "language": "python",
     "metadata": {},
     "outputs": [],
     "prompt_number": 15
    },
    {
     "cell_type": "code",
     "collapsed": false,
     "input": [
      "### Splitting\n",
      "x_train, x_test, y_train, y_test = train_test_split(train_features, train_labels, test_size=0.1, random_state=200)\n",
      "x_train_st, x_test_st, y_train_st, y_test_st = train_test_split(train_features_st, train_labels, test_size=0.1, random_state=200)"
     ],
     "language": "python",
     "metadata": {},
     "outputs": [],
     "prompt_number": 16
    },
    {
     "cell_type": "code",
     "collapsed": false,
     "input": [
      "regressor = LinearRegression()\n",
      "regressor.fit(x_train_st, y_train_st)"
     ],
     "language": "python",
     "metadata": {},
     "outputs": [
      {
       "metadata": {},
       "output_type": "pyout",
       "prompt_number": 20,
       "text": [
        "LinearRegression(copy_X=True, fit_intercept=True, n_jobs=1, normalize=False)"
       ]
      }
     ],
     "prompt_number": 20
    },
    {
     "cell_type": "code",
     "collapsed": false,
     "input": [
      "regressor.score(x_test_st, y_test_st)"
     ],
     "language": "python",
     "metadata": {},
     "outputs": [
      {
       "metadata": {},
       "output_type": "pyout",
       "prompt_number": 22,
       "text": [
        "-1.6107127176084448e+17"
       ]
      }
     ],
     "prompt_number": 22
    },
    {
     "cell_type": "code",
     "collapsed": false,
     "input": [
      "quadratic_featurizer = PolynomialFeatures(degree=2)\n",
      "x_train_quadratic = quadratic_featurizer.fit_transform(x_train_st)\n",
      "x_test_quadratic = quadratic_featurizer.transform(x_test_st)"
     ],
     "language": "python",
     "metadata": {},
     "outputs": [],
     "prompt_number": 23
    },
    {
     "cell_type": "code",
     "collapsed": false,
     "input": [
      "regressor_quadratic = LinearRegression()\n",
      "regressor_quadratic.fit(x_train_quadratic, y_train_st)"
     ],
     "language": "python",
     "metadata": {},
     "outputs": [
      {
       "metadata": {},
       "output_type": "pyout",
       "prompt_number": 26,
       "text": [
        "LinearRegression(copy_X=True, fit_intercept=True, n_jobs=1, normalize=False)"
       ]
      }
     ],
     "prompt_number": 26
    },
    {
     "cell_type": "code",
     "collapsed": false,
     "input": [
      "print 'Quadratic regression r-squared', regressor_quadratic.score(x_test_quadratic, y_test_st)"
     ],
     "language": "python",
     "metadata": {},
     "outputs": [
      {
       "output_type": "stream",
       "stream": "stdout",
       "text": [
        "Quadratic regression r-squared 0.322476119433\n"
       ]
      }
     ],
     "prompt_number": 29
    },
    {
     "cell_type": "code",
     "collapsed": false,
     "input": [
      "print 'Simple linear regression r-squared', regressor.score(x_test_st, y_test_st)"
     ],
     "language": "python",
     "metadata": {},
     "outputs": [
      {
       "output_type": "stream",
       "stream": "stdout",
       "text": [
        "Simple linear regression r-squared -1.61071271761e+17\n"
       ]
      }
     ],
     "prompt_number": 30
    },
    {
     "cell_type": "code",
     "collapsed": false,
     "input": [],
     "language": "python",
     "metadata": {},
     "outputs": []
    }
   ],
   "metadata": {}
  }
 ]
}