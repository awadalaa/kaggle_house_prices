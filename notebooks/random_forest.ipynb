{
 "metadata": {
  "name": "",
  "signature": "sha256:f28cf331cfd692cb912d9d34ee1805ae6519140ea8d6b4cc1192b9610cc877a6"
 },
 "nbformat": 3,
 "nbformat_minor": 0,
 "worksheets": [
  {
   "cells": [
    {
     "cell_type": "code",
     "collapsed": false,
     "input": [
      "import numpy as np # linear algebra\n",
      "import pandas as pd # data processing, CSV file I/O (e.g. pd.read_csv)\n",
      "import random as rnd\n",
      "\n",
      "# visualization\n",
      "import seaborn as sns\n",
      "import matplotlib.pyplot as plt\n",
      "from matplotlib import figure\n",
      "\n",
      "%matplotlib inline\n",
      "\n",
      "# machine learning\n",
      "from sklearn.linear_model import LogisticRegression\n",
      "from sklearn.svm import SVC, LinearSVC\n",
      "from sklearn.ensemble import RandomForestRegressor\n",
      "from sklearn.neighbors import KNeighborsClassifier\n",
      "from sklearn.naive_bayes import GaussianNB\n",
      "from sklearn.linear_model import Perceptron\n",
      "from sklearn.linear_model import SGDClassifier\n",
      "from sklearn.tree import DecisionTreeClassifier\n"
     ],
     "language": "python",
     "metadata": {},
     "outputs": [],
     "prompt_number": 4
    },
    {
     "cell_type": "code",
     "collapsed": false,
     "input": [
      "train = pd.read_csv(\"../input/train.csv.gz\")\n",
      "test = pd.read_csv(\"../input/test.csv.gz\")"
     ],
     "language": "python",
     "metadata": {},
     "outputs": [],
     "prompt_number": 5
    },
    {
     "cell_type": "code",
     "collapsed": false,
     "input": [
      "print(train.head())"
     ],
     "language": "python",
     "metadata": {},
     "outputs": [
      {
       "output_type": "stream",
       "stream": "stdout",
       "text": [
        "   Id  MSSubClass MSZoning  LotFrontage  LotArea Street Alley LotShape  \\\n",
        "0   1          60       RL         65.0     8450   Pave   NaN      Reg   \n",
        "1   2          20       RL         80.0     9600   Pave   NaN      Reg   \n",
        "2   3          60       RL         68.0    11250   Pave   NaN      IR1   \n",
        "3   4          70       RL         60.0     9550   Pave   NaN      IR1   \n",
        "4   5          60       RL         84.0    14260   Pave   NaN      IR1   \n",
        "\n",
        "  LandContour Utilities    ...     PoolArea PoolQC Fence MiscFeature MiscVal  \\\n",
        "0         Lvl    AllPub    ...            0    NaN   NaN         NaN       0   \n",
        "1         Lvl    AllPub    ...            0    NaN   NaN         NaN       0   \n",
        "2         Lvl    AllPub    ...            0    NaN   NaN         NaN       0   \n",
        "3         Lvl    AllPub    ...            0    NaN   NaN         NaN       0   \n",
        "4         Lvl    AllPub    ...            0    NaN   NaN         NaN       0   \n",
        "\n",
        "  MoSold YrSold  SaleType  SaleCondition  SalePrice  \n",
        "0      2   2008        WD         Normal     208500  \n",
        "1      5   2007        WD         Normal     181500  \n",
        "2      9   2008        WD         Normal     223500  \n",
        "3      2   2006        WD        Abnorml     140000  \n",
        "4     12   2008        WD         Normal     250000  \n",
        "\n",
        "[5 rows x 81 columns]\n"
       ]
      }
     ],
     "prompt_number": 6
    },
    {
     "cell_type": "code",
     "collapsed": false,
     "input": [
      "data=pd.concat((train.loc[:,'MSSubClass':'SaleCondition'],\\\n",
      "                test.loc[:,'MSSubClass':'SaleCondition']))\n",
      "\n",
      "data=pd.get_dummies(data)\n",
      "data.shape\n",
      "\n",
      "data=data.fillna(data.mean())\n",
      "data.describe()\n",
      "data.info()"
     ],
     "language": "python",
     "metadata": {},
     "outputs": [
      {
       "output_type": "stream",
       "stream": "stdout",
       "text": [
        "<class 'pandas.core.frame.DataFrame'>\n",
        "Int64Index: 2919 entries, 0 to 1458\n",
        "Columns: 288 entries, MSSubClass to SaleCondition_Partial\n",
        "dtypes: float64(11), int64(25), uint8(252)\n",
        "memory usage: 1.5 MB\n"
       ]
      }
     ],
     "prompt_number": 7
    },
    {
     "cell_type": "code",
     "collapsed": false,
     "input": [
      "xtrain=[train['Id'],data[:train.shape[0]],train['SalePrice']]\n",
      "print(train.shape[0])"
     ],
     "language": "python",
     "metadata": {},
     "outputs": [
      {
       "output_type": "stream",
       "stream": "stdout",
       "text": [
        "1460\n"
       ]
      }
     ],
     "prompt_number": 8
    },
    {
     "cell_type": "code",
     "collapsed": false,
     "input": [
      "print(len(train['Id']))\n",
      "ntrain=pd.concat(xtrain,axis=1)\n",
      "print(ntrain.head())\n",
      "\n",
      "xtest=[test['Id'],data[train.shape[0]:]]\n",
      "print(len(data[train.shape[0]:])==test.shape[0])\n",
      "ntest=pd.concat(xtest,axis=1)\n",
      "print(ntest.head())\n"
     ],
     "language": "python",
     "metadata": {},
     "outputs": [
      {
       "output_type": "stream",
       "stream": "stdout",
       "text": [
        "1460\n",
        "   Id  MSSubClass  LotFrontage  LotArea  OverallQual  OverallCond  YearBuilt  \\\n",
        "0   1          60         65.0     8450            7            5       2003   \n",
        "1   2          20         80.0     9600            6            8       1976   \n",
        "2   3          60         68.0    11250            7            5       2001   \n",
        "3   4          70         60.0     9550            7            5       1915   \n",
        "4   5          60         84.0    14260            8            5       2000   \n",
        "\n",
        "   YearRemodAdd  MasVnrArea  BsmtFinSF1    ...      SaleType_New  \\\n",
        "0          2003       196.0       706.0    ...                 0   \n",
        "1          1976         0.0       978.0    ...                 0   \n",
        "2          2002       162.0       486.0    ...                 0   \n",
        "3          1970         0.0       216.0    ...                 0   \n",
        "4          2000       350.0       655.0    ...                 0   \n",
        "\n",
        "   SaleType_Oth  SaleType_WD  SaleCondition_Abnorml  SaleCondition_AdjLand  \\\n",
        "0             0            1                      0                      0   \n",
        "1             0            1                      0                      0   \n",
        "2             0            1                      0                      0   \n",
        "3             0            1                      1                      0   \n",
        "4             0            1                      0                      0   \n",
        "\n",
        "   SaleCondition_Alloca  SaleCondition_Family  SaleCondition_Normal  \\\n",
        "0                     0                     0                     1   \n",
        "1                     0                     0                     1   \n",
        "2                     0                     0                     1   \n",
        "3                     0                     0                     0   \n",
        "4                     0                     0                     1   \n",
        "\n",
        "   SaleCondition_Partial  SalePrice  \n",
        "0                      0     208500  \n",
        "1                      0     181500  \n",
        "2                      0     223500  \n",
        "3                      0     140000  \n",
        "4                      0     250000  \n",
        "\n",
        "[5 rows x 290 columns]\n",
        "True\n",
        "     Id  MSSubClass  LotFrontage  LotArea  OverallQual  OverallCond  \\\n",
        "0  1461          20         80.0    11622            5            6   \n",
        "1  1462          20         81.0    14267            6            6   \n",
        "2  1463          60         74.0    13830            5            5   \n",
        "3  1464          60         78.0     9978            6            6   \n",
        "4  1465         120         43.0     5005            8            5   \n",
        "\n",
        "   YearBuilt  YearRemodAdd  MasVnrArea  BsmtFinSF1          ...            \\\n",
        "0       1961          1961         0.0       468.0          ...             \n",
        "1       1958          1958       108.0       923.0          ...             \n",
        "2       1997          1998         0.0       791.0          ...             \n",
        "3       1998          1998        20.0       602.0          ...             \n",
        "4       1992          1992         0.0       263.0          ...             \n",
        "\n",
        "   SaleType_ConLw  SaleType_New  SaleType_Oth  SaleType_WD  \\\n",
        "0               0             0             0            1   \n",
        "1               0             0             0            1   \n",
        "2               0             0             0            1   \n",
        "3               0             0             0            1   \n",
        "4               0             0             0            1   \n",
        "\n",
        "   SaleCondition_Abnorml  SaleCondition_AdjLand  SaleCondition_Alloca  \\\n",
        "0                      0                      0                     0   \n",
        "1                      0                      0                     0   \n",
        "2                      0                      0                     0   \n",
        "3                      0                      0                     0   \n",
        "4                      0                      0                     0   \n",
        "\n",
        "   SaleCondition_Family  SaleCondition_Normal  SaleCondition_Partial  \n",
        "0                     0                     1                      0  \n",
        "1                     0                     1                      0  \n",
        "2                     0                     1                      0  \n",
        "3                     0                     1                      0  \n",
        "4                     0                     1                      0  \n",
        "\n",
        "[5 rows x 289 columns]\n"
       ]
      }
     ],
     "prompt_number": 9
    },
    {
     "cell_type": "code",
     "collapsed": false,
     "input": [
      "X_train=ntrain.loc[:,'MSSubClass':'SaleCondition_Partial']\n",
      "Y_train=ntrain.loc[:,'SalePrice']\n",
      "X_test=ntest.loc[:,'MSSubClass':'SaleCondition_Partial']"
     ],
     "language": "python",
     "metadata": {},
     "outputs": [],
     "prompt_number": 10
    },
    {
     "cell_type": "code",
     "collapsed": false,
     "input": [
      "# Random Forest\n",
      "random_forest = RandomForestRegressor(n_estimators=2900)\n",
      "random_forest.fit(X_train, Y_train)\n",
      "Y_pred = random_forest.predict(X_test)\n",
      "random_forest.score(X_train, Y_train)\n",
      "acc_random_forest = round(random_forest.score(X_train, Y_train) * 100, 2)\n",
      "print(acc_random_forest)"
     ],
     "language": "python",
     "metadata": {},
     "outputs": [
      {
       "output_type": "stream",
       "stream": "stdout",
       "text": [
        "98.16\n"
       ]
      }
     ],
     "prompt_number": 11
    },
    {
     "cell_type": "code",
     "collapsed": false,
     "input": [
      "submission = pd.DataFrame({\"Id\": ntest['Id'],\"SalePrice\": Y_pred})"
     ],
     "language": "python",
     "metadata": {},
     "outputs": [],
     "prompt_number": 12
    },
    {
     "cell_type": "code",
     "collapsed": false,
     "input": [
      "print(len(submission))"
     ],
     "language": "python",
     "metadata": {},
     "outputs": [
      {
       "output_type": "stream",
       "stream": "stdout",
       "text": [
        "1459\n"
       ]
      }
     ],
     "prompt_number": 13
    },
    {
     "cell_type": "code",
     "collapsed": false,
     "input": [
      "submission.to_csv('submission.csv', index=False)"
     ],
     "language": "python",
     "metadata": {},
     "outputs": [],
     "prompt_number": 14
    },
    {
     "cell_type": "code",
     "collapsed": false,
     "input": [],
     "language": "python",
     "metadata": {},
     "outputs": []
    }
   ],
   "metadata": {}
  }
 ]
}